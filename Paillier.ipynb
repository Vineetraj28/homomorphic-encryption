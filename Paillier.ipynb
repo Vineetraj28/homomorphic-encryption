{
 "cells": [
  {
   "cell_type": "code",
   "execution_count": 5,
   "id": "99e65c8d",
   "metadata": {},
   "outputs": [
    {
     "name": "stdout",
     "output_type": "stream",
     "text": [
      "Add two encrypted numbers together: 15\n"
     ]
    }
   ],
   "source": [
    "from phe import paillier\n",
    "\n",
    "num1 = 10\n",
    "num2 = 5\n",
    "\n",
    "pub_key, priv_key = paillier.generate_paillier_keypair()\n",
    "cipher_num1, cipher_num2 = pub_key.encrypt(num1), pub_key.encrypt(num2)\n",
    "\n",
    "# add two encrypted numbers together\n",
    "result = cipher_num1 + cipher_num2\n",
    "result = priv_key.decrypt(result)\n",
    "print(\"Add two encrypted numbers together:\",result)\n",
    "\n"
   ]
  },
  {
   "cell_type": "code",
   "execution_count": 4,
   "id": "4de34a71",
   "metadata": {},
   "outputs": [
    {
     "name": "stdout",
     "output_type": "stream",
     "text": [
      "First number is:  10\n"
     ]
    }
   ],
   "source": [
    "from phe import paillier\n",
    "\n",
    "num1 = 10\n",
    "\n",
    "pub_key, priv_key = paillier.generate_paillier_keypair()\n",
    "cipher_num1 = pub_key.encrypt(num1)\n",
    "\n",
    "result = cipher_num1\n",
    "result = priv_key.decrypt(result)\n",
    "print(\"First number is: \", result)\n",
    "\n"
   ]
  },
  {
   "cell_type": "code",
   "execution_count": 8,
   "id": "e8918586",
   "metadata": {},
   "outputs": [
    {
     "name": "stdout",
     "output_type": "stream",
     "text": [
      "Second number is:  5\n"
     ]
    }
   ],
   "source": [
    "from phe import paillier\n",
    "\n",
    "num2 = 5 \n",
    "\n",
    "pub_key, priv_key = paillier.generate_paillier_keypair()\n",
    "cipher_num2 = pub_key.encrypt(num2)\n",
    "\n",
    "result = cipher_num2\n",
    "result = priv_key.decrypt(result)\n",
    "print(\"Second number is: \", result)"
   ]
  },
  {
   "cell_type": "code",
   "execution_count": null,
   "id": "e87c5959",
   "metadata": {},
   "outputs": [],
   "source": []
  }
 ],
 "metadata": {
  "kernelspec": {
   "display_name": "Python 3 (ipykernel)",
   "language": "python",
   "name": "python3"
  },
  "language_info": {
   "codemirror_mode": {
    "name": "ipython",
    "version": 3
   },
   "file_extension": ".py",
   "mimetype": "text/x-python",
   "name": "python",
   "nbconvert_exporter": "python",
   "pygments_lexer": "ipython3",
   "version": "3.11.2"
  }
 },
 "nbformat": 4,
 "nbformat_minor": 5
}
